{
 "cells": [
  {
   "cell_type": "markdown",
   "metadata": {},
   "source": [
    "# Font Fixing"
   ]
  },
  {
   "cell_type": "code",
   "execution_count": null,
   "metadata": {},
   "outputs": [],
   "source": [
    "import matplotlib.pyplot as plt\n",
    "from matplotlib import font_manager\n",
    "%matplotlib inline\n",
    "\n",
    "import os\n",
    "from glob import glob\n",
    "\n",
    "font_list = glob('fonts/*')\n",
    "\n",
    "os.makedirs('negatives_test',exist_ok=True)\n",
    "\n",
    "for font in font_list:\n",
    "    \n",
    "    ticks_font = font_manager.FontProperties(fname = font, style='normal', size=14, weight='normal', stretch='normal')\n",
    "\n",
    "    plt.figure()\n",
    "    plt.plot([-10,-1],[-10,-1],'ob')\n",
    "    ax=plt.gca()\n",
    "    \n",
    "    for label in ax.get_xticklabels():\n",
    "        label.set_fontproperties(ticks_font)\n",
    "\n",
    "    for label in ax.get_yticklabels():\n",
    "        label.set_fontproperties(ticks_font)\n",
    "        \n",
    "    save_name = os.path.join('negatives_test',os.path.basename(font)[:-4]+'.png')\n",
    "    plt.savefig(save_name)\n",
    "    plt.close()"
   ]
  },
  {
   "cell_type": "markdown",
   "metadata": {},
   "source": [
    "## Needed to remove fonts that didn't have minus signs or greek characters"
   ]
  },
  {
   "cell_type": "code",
   "execution_count": null,
   "metadata": {},
   "outputs": [],
   "source": [
    "import fontTools as ft\n",
    "from fontTools.ttLib import TTFont\n",
    "\n",
    "def char_in_font(unicode_char, fontpath):\n",
    "    \n",
    "    \"\"\"\n",
    "    Function to determine if a TrueType font has a certain unicode char\n",
    "    \"\"\"\n",
    "    \n",
    "    if fontpath[-3:]=='otf':\n",
    "        return True\n",
    "    \n",
    "    try:\n",
    "        font = TTFont(fontpath)   # specify the path to the font in question\n",
    "    except:\n",
    "        return False\n",
    "    \n",
    "    for cmap in font['cmap'].tables:\n",
    "        if cmap.isUnicode():\n",
    "            if ord(unicode_char) in cmap.cmap:\n",
    "                return True\n",
    "    return False"
   ]
  },
  {
   "cell_type": "code",
   "execution_count": null,
   "metadata": {},
   "outputs": [],
   "source": [
    "font_list_minus = [f for f in glob('fonts/*') if char_in_font(u\"\\u2212\", f)]\n",
    "print(len(font_list_minus), \"fonts with minus sign\")\n",
    "\n",
    "font_list_greek = [f for f in glob('fonts/*') \n",
    "                   if (char_in_font(u\"\\u2212\", f) & # minus sign\n",
    "                       char_in_font(u\"\\u2012\", f) & # a few different dashes...\n",
    "                       char_in_font(u\"\\u2013\", f) & \n",
    "                       char_in_font(u\"\\u2014\", f) & \n",
    "                       char_in_font(u\"\\u03b1\", f))] # greek alpha\n",
    "print(len(font_list_greek), \"fonts with minus sign and alpha\")"
   ]
  },
  {
   "cell_type": "code",
   "execution_count": null,
   "metadata": {},
   "outputs": [],
   "source": [
    "### Delete font is it's not up to standards. This was probably stupid.\n",
    "\n",
    "# for f in glob('fonts/*'):\n",
    "#     if f not in font_list_greek:\n",
    "#         os.remove(f)"
   ]
  },
  {
   "cell_type": "code",
   "execution_count": null,
   "metadata": {},
   "outputs": [],
   "source": []
  },
  {
   "cell_type": "code",
   "execution_count": null,
   "metadata": {},
   "outputs": [],
   "source": [
    "ax.xaxis.set_major_formatter(plt.NullFormatter())"
   ]
  }
 ],
 "metadata": {
  "kernelspec": {
   "display_name": "Python 3",
   "language": "python",
   "name": "python3"
  },
  "language_info": {
   "codemirror_mode": {
    "name": "ipython",
    "version": 3
   },
   "file_extension": ".py",
   "mimetype": "text/x-python",
   "name": "python",
   "nbconvert_exporter": "python",
   "pygments_lexer": "ipython3",
   "version": "3.5.5"
  }
 },
 "nbformat": 4,
 "nbformat_minor": 2
}
